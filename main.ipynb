{
 "cells": [
  {
   "cell_type": "code",
   "execution_count": 16,
   "metadata": {},
   "outputs": [],
   "source": [
    "import os\n",
    "import shutil\n",
    "from tensorflow.keras.preprocessing.image import ImageDataGenerator\n",
    "from tensorflow.keras.applications.vgg16 import preprocess_input\n",
    "from tensorflow.keras.utils import to_categorical\n",
    "from sklearn.model_selection import train_test_split\n",
    "from PIL import Image\n",
    "import numpy as np"
   ]
  },
  {
   "cell_type": "code",
   "execution_count": 17,
   "metadata": {},
   "outputs": [],
   "source": [
    "IMAGE_SIZE = (224, 224)  # Adjust based on the requirements of your chosen model\n",
    "BATCH_SIZE = 32"
   ]
  },
  {
   "cell_type": "code",
   "execution_count": 18,
   "metadata": {},
   "outputs": [],
   "source": [
    "# Directory paths\n",
    "data_dir = 'images'\n",
    "plane_dir = os.path.join(data_dir, 'plane')\n",
    "no_plane_dir = os.path.join(data_dir, 'no_plane')"
   ]
  },
  {
   "cell_type": "code",
   "execution_count": 19,
   "metadata": {},
   "outputs": [],
   "source": [
    "# Create plane and no_plane directories if they don't exist\n",
    "os.makedirs(plane_dir, exist_ok=True)\n",
    "os.makedirs(no_plane_dir, exist_ok=True)"
   ]
  },
  {
   "cell_type": "code",
   "execution_count": 20,
   "metadata": {},
   "outputs": [],
   "source": [
    "# Move images to plane and no_plane directories based on the filename prefix\n",
    "for filename in os.listdir(data_dir):\n",
    "    if filename.endswith(\".jpg\") or filename.endswith(\".png\"):\n",
    "        img_path = os.path.join(data_dir, filename)\n",
    "        img = Image.open(img_path).convert('RGB')\n",
    "        img = img.resize(IMAGE_SIZE)\n",
    "        img_array = np.array(img)\n",
    "        img_array = preprocess_input(img_array)  # Preprocess for VGG16, adjust based on the chosen model\n",
    "\n",
    "        prefix = filename.split('_')[0]  # Assuming filenames are like '0_...', '1_...', etc.\n",
    "        if prefix == '1':\n",
    "            shutil.move(img_path, os.path.join(plane_dir, filename))\n",
    "        else:\n",
    "            shutil.move(img_path, os.path.join(no_plane_dir, filename))"
   ]
  },
  {
   "cell_type": "code",
   "execution_count": 21,
   "metadata": {},
   "outputs": [],
   "source": [
    "# Function to load and preprocess images\n",
    "def load_and_preprocess_images(directory):\n",
    "    images = []\n",
    "    labels = []\n",
    "    for filename in os.listdir(directory):\n",
    "        if filename.endswith(\".jpg\") or filename.endswith(\".png\"):\n",
    "            img_path = os.path.join(directory, filename)\n",
    "            img = Image.open(img_path).convert('RGB')\n",
    "            img = img.resize(IMAGE_SIZE)\n",
    "            img_array = np.array(img)\n",
    "            img_array = preprocess_input(img_array)  # Preprocess for VGG16, adjust based on the chosen model\n",
    "            images.append(img_array)\n",
    "            labels.append(1 if directory == plane_dir else 0)  # Assign label 1 for plane, 0 for no-plane\n",
    "    return np.array(images), np.array(labels)"
   ]
  },
  {
   "cell_type": "code",
   "execution_count": 22,
   "metadata": {},
   "outputs": [],
   "source": [
    "# Load and preprocess images from both classes\n",
    "plane_images, plane_labels = load_and_preprocess_images(plane_dir)\n",
    "no_plane_images, no_plane_labels = load_and_preprocess_images(no_plane_dir)"
   ]
  },
  {
   "cell_type": "code",
   "execution_count": null,
   "metadata": {},
   "outputs": [],
   "source": []
  }
 ],
 "metadata": {
  "kernelspec": {
   "display_name": "env",
   "language": "python",
   "name": "python3"
  },
  "language_info": {
   "codemirror_mode": {
    "name": "ipython",
    "version": 3
   },
   "file_extension": ".py",
   "mimetype": "text/x-python",
   "name": "python",
   "nbconvert_exporter": "python",
   "pygments_lexer": "ipython3",
   "version": "3.11.5"
  },
  "orig_nbformat": 4
 },
 "nbformat": 4,
 "nbformat_minor": 2
}
